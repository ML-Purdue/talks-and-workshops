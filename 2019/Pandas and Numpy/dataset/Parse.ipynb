{
 "cells": [
  {
   "cell_type": "code",
   "execution_count": 5,
   "metadata": {},
   "outputs": [],
   "source": [
    "from lxml import etree"
   ]
  },
  {
   "cell_type": "code",
   "execution_count": 3,
   "metadata": {},
   "outputs": [],
   "source": [
    "FULL_PAGE = \"\"\n",
    "with open('./Class Schedule Listing.html') as f:\n",
    "    FULL_PAGE = f.read()"
   ]
  },
  {
   "cell_type": "code",
   "execution_count": 6,
   "metadata": {},
   "outputs": [],
   "source": [
    "parser = etree.HTMLParser()\n",
    "tree = etree.fromstring(FULL_PAGE, parser)"
   ]
  },
  {
   "cell_type": "code",
   "execution_count": 11,
   "metadata": {},
   "outputs": [],
   "source": [
    "tbody = tree.xpath('/html/body/div[3]/table[1]/tbody')[0]"
   ]
  },
  {
   "cell_type": "code",
   "execution_count": 33,
   "metadata": {},
   "outputs": [],
   "source": [
    "class_head = tbody.xpath('tr[1]')[0]\n",
    "class_body = tbody.xpath('tr[2]')[0]"
   ]
  },
  {
   "cell_type": "code",
   "execution_count": 16,
   "metadata": {},
   "outputs": [
    {
     "data": {
      "text/plain": [
       "['Undergraduate Sophomore Seminar - 56742 - AAE 20000 - 001']"
      ]
     },
     "execution_count": 16,
     "metadata": {},
     "output_type": "execute_result"
    }
   ],
   "source": [
    "class_head.xpath('th/a[1]/text()')"
   ]
  },
  {
   "cell_type": "code",
   "execution_count": 17,
   "metadata": {},
   "outputs": [
    {
     "data": {
      "text/plain": [
       "['https://selfservice.mypurdue.purdue.edu/prod/bwckschd.p_disp_detail_sched?term_in=202010&crn_in=56742']"
      ]
     },
     "execution_count": 17,
     "metadata": {},
     "output_type": "execute_result"
    }
   ],
   "source": [
    "class_head.xpath('th/a[1]/@href')"
   ]
  },
  {
   "cell_type": "code",
   "execution_count": 24,
   "metadata": {},
   "outputs": [],
   "source": [
    "def parse_class_head(class_head):\n",
    "    text = class_head.xpath('th/a[1]/text()')[0]\n",
    "    url = class_head.xpath('th/a[1]/@href')[0]\n",
    "    \n",
    "    *title, crn, number, section = text.split('-')\n",
    "    title = '-'.join(title).strip()\n",
    "    crn = int(crn)\n",
    "    number = number.strip()\n",
    "    section = section.strip()\n",
    "    \n",
    "    return {\n",
    "        'title': title,\n",
    "        'crn': crn,\n",
    "        'number': number,\n",
    "        'section': section\n",
    "    }"
   ]
  },
  {
   "cell_type": "code",
   "execution_count": 25,
   "metadata": {},
   "outputs": [
    {
     "data": {
      "text/plain": [
       "{'title': 'Undergraduate Sophomore Seminar',\n",
       " 'crn': 56742,\n",
       " 'number': 'AAE 20000',\n",
       " 'section': '001'}"
      ]
     },
     "execution_count": 25,
     "metadata": {},
     "output_type": "execute_result"
    }
   ],
   "source": [
    "parse_class_head(class_head)"
   ]
  },
  {
   "cell_type": "code",
   "execution_count": 28,
   "metadata": {},
   "outputs": [
    {
     "data": {
      "text/plain": [
       "['Graduate, Professional, Undergraduate \\n']"
      ]
     },
     "execution_count": 28,
     "metadata": {},
     "output_type": "execute_result"
    }
   ],
   "source": [
    "class_body.xpath('td/span[text()=\"Levels: \"]/following-sibling::text()[1]')"
   ]
  },
  {
   "cell_type": "code",
   "execution_count": 35,
   "metadata": {},
   "outputs": [],
   "source": [
    "def parse_class_body(class_body):\n",
    "    levels = class_body.xpath('td/span[text()=\"Levels: \"]/following-sibling::text()[1]')[0]\n",
    "    levels = levels.split(',')\n",
    "    levels = list(map(lambda x: x.strip(), levels))\n",
    "    \n",
    "    attributes = class_body.xpath('td/span[text()=\"Attributes: \"]/following-sibling::text()[1]')[0]\n",
    "    attributes = attributes.split(',')\n",
    "    attributes = list(map(lambda x: x.strip(), attributes))\n",
    "    \n",
    "    return {\n",
    "        'levels': levels,\n",
    "        'attributes': attributes\n",
    "    }"
   ]
  },
  {
   "cell_type": "code",
   "execution_count": 36,
   "metadata": {},
   "outputs": [
    {
     "data": {
      "text/plain": [
       "{'levels': ['Graduate', 'Professional', 'Undergraduate'],\n",
       " 'attributes': ['Lower Division']}"
      ]
     },
     "execution_count": 36,
     "metadata": {},
     "output_type": "execute_result"
    }
   ],
   "source": [
    "parse_class_body(class_body)"
   ]
  },
  {
   "cell_type": "code",
   "execution_count": null,
   "metadata": {},
   "outputs": [],
   "source": []
  }
 ],
 "metadata": {
  "kernelspec": {
   "display_name": "Python 3",
   "language": "python",
   "name": "python3"
  },
  "language_info": {
   "codemirror_mode": {
    "name": "ipython",
    "version": 3
   },
   "file_extension": ".py",
   "mimetype": "text/x-python",
   "name": "python",
   "nbconvert_exporter": "python",
   "pygments_lexer": "ipython3",
   "version": "3.6.8"
  }
 },
 "nbformat": 4,
 "nbformat_minor": 2
}
